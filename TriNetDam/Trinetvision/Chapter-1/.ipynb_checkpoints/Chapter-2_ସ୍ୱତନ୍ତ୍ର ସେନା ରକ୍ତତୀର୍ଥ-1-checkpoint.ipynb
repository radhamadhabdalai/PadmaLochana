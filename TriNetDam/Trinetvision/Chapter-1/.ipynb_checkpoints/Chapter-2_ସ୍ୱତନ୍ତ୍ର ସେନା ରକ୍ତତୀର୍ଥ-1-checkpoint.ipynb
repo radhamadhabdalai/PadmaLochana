{
 "cells": [
  {
   "cell_type": "code",
   "execution_count": null,
   "id": "94037817",
   "metadata": {},
   "outputs": [],
   "source": [
    "'''\n",
    " * Copyright (c) 2017 Radhamadhab Dalai\n",
    " *\n",
    " * Permission is hereby granted, free of charge, to any person obtaining a copy\n",
    " * of this software and associated documentation files (the \"Software\"), to deal\n",
    " * in the Software without restriction, including without limitation the rights\n",
    " * to use, copy, modify, merge, publish, distribute, sublicense, and/or sell\n",
    " * copies of the Software, and to permit persons to whom the Software is\n",
    " * furnished to do so, subject to the following conditions:\n",
    " *\n",
    " * The above copyright notice and this permission notice shall be included in\n",
    " * all copies or substantial portions of the Software.\n",
    " *\n",
    " * THE SOFTWARE IS PROVIDED \"AS IS\", WITHOUT WARRANTY OF ANY KIND, EXPRESS OR\n",
    " * IMPLIED, INCLUDING BUT NOT LIMITED TO THE WARRANTIES OF MERCHANTABILITY,\n",
    " * FITNESS FOR A PARTICULAR PURPOSE AND NONINFRINGEMENT. IN NO EVENT SHALL THE\n",
    " * AUTHORS OR COPYRIGHT HOLDERS BE LIABLE FOR ANY CLAIM, DAMAGES OR OTHER\n",
    " * LIABILITY, WHETHER IN AN ACTION OF CONTRACT, TORT OR OTHERWISE, ARISING FROM,\n",
    " * OUT OF OR IN CONNECTION WITH THE SOFTWARE OR THE USE OR OTHER DEALINGS IN\n",
    " * THE SOFTWARE.\n",
    "'''"
   ]
  },
  {
   "cell_type": "markdown",
   "id": "6d6c5ce2",
   "metadata": {},
   "source": [
    "# Chapter 2: Fundamentals of Imaging\n",
    "\n",
    "> Sarà adunque pittura non altro che intersegazione della pirramide visiva, sicondo data distanza, posto il centro e constituiti i lumi, in una certa superficie con linee e colori artificiose representata.  \n",
    "> —L. B. Alberti\n",
    "\n",
    "## 2.1 Introduction\n",
    "\n",
    "An imaging device works by collecting light reflected from objects in the scene and creating a two-dimensional image. If we want to use the image to gain information about the scene, we need to be familiar with the nature of this process that we would like to be able to reverse. The word “camera” is the Latin word for “chamber”. It was originally used in reference to the **camera obscura** (dark chamber), a dark, enclosed room used by artists and scientists in the sixteenth century to observe the projected image of an external object through a small hole. Over time, the term was adapted to refer to the devices used to capture and record images, such as cameras.\n",
    "\n",
    "## 2.2 Perspective\n",
    "\n",
    "The simplest geometric model of image formation is the **pinhole camera**, represented in Fig. 2.1; it is based on the same principle as the camera obscura. The tiny hole (pinhole) in one wall of the room lets in a ray of light for each point in the scene so that an image of the outside world is drawn on the opposite wall (image plane).\n"
   ]
  },
  {
   "cell_type": "code",
   "execution_count": null,
   "id": "6e90210f",
   "metadata": {},
   "outputs": [],
   "source": []
  }
 ],
 "metadata": {
  "kernelspec": {
   "display_name": "Python 3 (ipykernel)",
   "language": "python",
   "name": "python3"
  },
  "language_info": {
   "codemirror_mode": {
    "name": "ipython",
    "version": 3
   },
   "file_extension": ".py",
   "mimetype": "text/x-python",
   "name": "python",
   "nbconvert_exporter": "python",
   "pygments_lexer": "ipython3",
   "version": "3.7.16"
  }
 },
 "nbformat": 4,
 "nbformat_minor": 5
}
